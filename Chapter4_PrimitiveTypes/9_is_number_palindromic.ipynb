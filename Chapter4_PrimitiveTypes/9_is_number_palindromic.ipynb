{
 "cells": [
  {
   "cell_type": "markdown",
   "metadata": {},
   "source": [
    "# 4.9 Check if a decimal integer is a palindrome"
   ]
  },
  {
   "cell_type": "code",
   "execution_count": 2,
   "metadata": {},
   "outputs": [
    {
     "name": "stdout",
     "output_type": "stream",
     "text": [
      "True\n",
      "False\n",
      "False\n"
     ]
    }
   ],
   "source": [
    "#Implementation #1 Using operation manipulation \n",
    "def isPalindrome(x): \n",
    "    #All negative numbers are Not Palindromes\n",
    "    if x < 0: \n",
    "        return False \n",
    "    res = 0 \n",
    "    s = abs(x) \n",
    "    while s != 0: \n",
    "        res *= 10 #\"shift\" res over by a place \n",
    "        res = res + s%10 #get remainder and add to result \n",
    "        s //= 10 #Gets rid of remainder from s \n",
    "    return res == x #Return if the reverse of x is equal to x \n",
    "print(isPalindrome(121))\n",
    "print(isPalindrome(-121))\n",
    "print(isPalindrome(120))"
   ]
  },
  {
   "cell_type": "code",
   "execution_count": 5,
   "metadata": {},
   "outputs": [
    {
     "name": "stdout",
     "output_type": "stream",
     "text": [
      "False\n",
      "False\n",
      "True\n"
     ]
    }
   ],
   "source": [
    "#Implementation #2 just checking if the reverse of a number is equal to the original number (All nonnegative ints)\n",
    "def isPalindrome(x):\n",
    "        if x < 0: \n",
    "            return False\n",
    "        s = \"\"\n",
    "        for i in reversed(str(x)): \n",
    "            s += i\n",
    "        return int(s) == x\n",
    "print(isPalindrome(-151))\n",
    "print(isPalindrome(1223232321))\n",
    "print(isPalindrome(12345654321))"
   ]
  },
  {
   "cell_type": "code",
   "execution_count": 14,
   "metadata": {},
   "outputs": [
    {
     "name": "stdout",
     "output_type": "stream",
     "text": [
      "True\n",
      "False\n",
      "False\n"
     ]
    }
   ],
   "source": [
    "# Implementation #3 one-liner \n",
    "def isPalindrome(x): \n",
    "    return str(x)[::-1] == str(x)\n",
    "print(isPalindrome(151))\n",
    "print(isPalindrome(1223232321))\n",
    "print(isPalindrome(-12345654321))"
   ]
  },
  {
   "cell_type": "code",
   "execution_count": null,
   "metadata": {},
   "outputs": [],
   "source": []
  }
 ],
 "metadata": {
  "kernelspec": {
   "display_name": "Python 3",
   "language": "python",
   "name": "python3"
  },
  "language_info": {
   "codemirror_mode": {
    "name": "ipython",
    "version": 3
   },
   "file_extension": ".py",
   "mimetype": "text/x-python",
   "name": "python",
   "nbconvert_exporter": "python",
   "pygments_lexer": "ipython3",
   "version": "3.7.4"
  }
 },
 "nbformat": 4,
 "nbformat_minor": 2
}
