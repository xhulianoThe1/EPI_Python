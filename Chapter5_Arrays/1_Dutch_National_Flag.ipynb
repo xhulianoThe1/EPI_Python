{
 "cells": [
  {
   "cell_type": "markdown",
   "metadata": {},
   "source": [
    "# DUTCH NATIONAL FLAG PROBLEM "
   ]
  },
  {
   "cell_type": "code",
   "execution_count": 1,
   "metadata": {},
   "outputs": [
    {
     "name": "stdout",
     "output_type": "stream",
     "text": [
      "[0, 0, 1, 2, 1, 2]\n",
      "[0, 1, 1, 3, 2, 2]\n"
     ]
    }
   ],
   "source": [
    "#Dutch National Flag problem using o(n) space and time \n",
    "def partition(pivot_index, arr): \n",
    "    pivot = arr[pivot_index]\n",
    "    arr1 = [] \n",
    "    arr2 = [] \n",
    "    arr3 = [] \n",
    "    for i in range(len(arr)): \n",
    "        if arr[i] < pivot: \n",
    "            arr1.append(arr[i])\n",
    "        elif arr[i] == pivot: \n",
    "            arr2.append(arr[i])\n",
    "        else:\n",
    "            arr3.append(arr[i])\n",
    "    return arr1+arr2+arr3\n",
    "print(partition(3, [0, 1, 2, 0, 1, 2]))\n",
    "print(partition(2, [3, 0, 1, 1, 2, 2]))"
   ]
  },
  {
   "cell_type": "code",
   "execution_count": 2,
   "metadata": {},
   "outputs": [
    {
     "name": "stdout",
     "output_type": "stream",
     "text": [
      "[0, 0, 1, 2, 2, 1]\n",
      "[0, 1, 1, 2, 3, 2]\n"
     ]
    }
   ],
   "source": [
    "# Dutch National Flag problem using ~O(n^2) time and O(1) space\n",
    "def partition2(pivot_index, arr): \n",
    "        pivot = arr[pivot_index]\n",
    "        for i in range(len(arr)): \n",
    "            for k in range(i+1, len(arr)): \n",
    "                if arr[k] < pivot: \n",
    "                    arr[i], arr[k] = arr[k], arr[i] #Swap\n",
    "                    break \n",
    "        for i in reversed(range(len(arr))): \n",
    "            for k in reversed(range(i)): \n",
    "                if arr[k] > pivot: \n",
    "                    arr[i], arr[k] = arr[k], arr[i] #Swap\n",
    "                    break \n",
    "        return arr\n",
    "print(partition2(3, [0, 1, 2, 0, 1, 2]))\n",
    "print(partition2(2, [3, 0, 1, 1, 2, 2]))"
   ]
  },
  {
   "cell_type": "code",
   "execution_count": 4,
   "metadata": {},
   "outputs": [
    {
     "name": "stdout",
     "output_type": "stream",
     "text": [
      "[0, 0, 1, 2, 1, 2]\n",
      "[0, 1, 1, 3, 2, 2]\n"
     ]
    }
   ],
   "source": [
    "#Dutch National Flag problem using ~O(n) time and O(1) space \n",
    "def partition3(pivot_index, arr): \n",
    "        pivot = arr[pivot_index]\n",
    "        smaller = 0 \n",
    "        for i in range(len(arr)): \n",
    "            if arr[i] < pivot: \n",
    "                arr[i], arr[smaller]= arr[smaller], arr[i]\n",
    "                smaller += 1 \n",
    "        larger = len(arr)-1\n",
    "        for k in reversed(range(len(arr))): \n",
    "            if arr[k] > pivot: \n",
    "                arr[k], arr[larger] = arr[larger], arr[k]\n",
    "                larger-=1\n",
    "        return arr\n",
    "print(partition3(3, [0, 1, 2, 0, 1, 2]))\n",
    "print(partition3(2, [3, 0, 1, 1, 2, 2]))"
   ]
  },
  {
   "cell_type": "code",
   "execution_count": null,
   "metadata": {},
   "outputs": [],
   "source": []
  },
  {
   "cell_type": "code",
   "execution_count": null,
   "metadata": {},
   "outputs": [],
   "source": []
  }
 ],
 "metadata": {
  "kernelspec": {
   "display_name": "Python 3",
   "language": "python",
   "name": "python3"
  },
  "language_info": {
   "codemirror_mode": {
    "name": "ipython",
    "version": 3
   },
   "file_extension": ".py",
   "mimetype": "text/x-python",
   "name": "python",
   "nbconvert_exporter": "python",
   "pygments_lexer": "ipython3",
   "version": "3.7.4"
  }
 },
 "nbformat": 4,
 "nbformat_minor": 2
}
